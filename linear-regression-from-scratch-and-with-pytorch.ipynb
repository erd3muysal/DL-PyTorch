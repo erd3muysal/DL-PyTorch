{
 "cells": [
  {
   "cell_type": "markdown",
   "execution_count": null,
   "metadata": {},
   "source": [
    "## Linear Regression with PyTorch\n",
    "\n",
    "#### Part 2 of \"PyTorch: Zero to GANs\"\n",
    "\n",
    "*This post is the second in a series of tutorials on building deep learning models with PyTorch, an open source neural networks library developed and maintained by Facebook. Check out the full series:*\n",
    "\n",
    "1. [PyTorch Basics: Tensors Operations](https://www.kaggle.com/erdemuysal/pytorch-tensor-operations-for-beginners)\n",
    "2. [Linear Regression from Scatch and with PyTorch using Gradient Descent](https://www.kaggle.com/erdemuysal/linear-regression-from-scratch-and-with-pytorch/notebook)\n",
    "\n",
    "Continuing where the [previous tutorial](https://www.kaggle.com/erdemuysal/pytorch-tensor-operations-for-beginners) left off, we'll discuss one of the foundational  algorithms of machine learning in this post: *Linear regression*. We'll create a model that predicts crop yields for apples and oranges (*target variables*) by looking at the average temperature, rainfall and humidity (*input variables or features*) in a region. Our data is called California Housing Prices.\n",
    "\n",
    "In a linear regression model, each target variable is estimated to be a weighted sum of the input variables, offset by some constant, known as a bias :\n",
    "```\n",
    "house_price  = w11 * location + w12 * number_of_rooms + w13 * square_feet + b1\n",
    "```\n",
    "Visually, it means that the house_price is a linear or planar function of location, number_of_rooms and square_feet:\n",
    "\n",
    "The *learning* part of linear regression is to figure out a set of weights `w11, w12,... w23, b1 & b2` by looking at the training data, to make accurate predictions for new data (i.e. to predict the yields for apples and oranges in a new region using the average temperature, rainfall and humidity). This is done by adjusting the weights slightly many times to make better predictions, using an optimization technique called *gradient descent*."
   ]
  },
  {
   "cell_type": "markdown",
   "execution_count": null,
   "metadata": {},
   "source": [
    "## Imports and Definitions"
   ]
  },
  {
   "cell_type": "markdown",
   "execution_count": null,
   "metadata": {},
   "source": [
    "We begin by importing necessery libraries and frameworks:"
   ]
  },
  {
   "cell_type": "code",
   "execution_count": 1,
   "metadata": {},
   "outputs": [],
   "source": [
    "# Uncomment the command below if Numpy or PyTorch is not installed\n",
    "# !conda install numpy pytorch cpuonly -c pytorch -y"
   ]
  },
  {
   "cell_type": "code",
   "execution_count": 2,
   "metadata": {},
   "outputs": [],
   "source": [
    "import numpy as np\n",
    "import pandas as pd\n",
    "import matplotlib.pyplot as plt\n",
    "import torch\n",
    "import torch.nn as nn\n",
    "import torch.nn.functional as F\n",
    "import torchvision\n",
    "from torch.utils.data import DataLoader, TensorDataset, random_split"
   ]
  },
  {
   "cell_type": "code",
   "execution_count": 3,
   "metadata": {},
   "outputs": [],
   "source": [
    "# Hyperparameters\n",
    "split_rate = 0.2\n",
    "batch_size = 64\n",
    "learning_rate = 1e-4\n",
    "\n",
    "# Other constants\n",
    "DATA_FILENAME = 'housing.csv'\n",
    "TARGET_COLUMN = 'median_house_value'  # Target to predict"
   ]
  },
  {
   "cell_type": "markdown",
   "execution_count": null,
   "metadata": {},
   "source": [
    "## Data Preparation"
   ]
  },
  {
   "cell_type": "markdown",
   "execution_count": null,
   "metadata": {},
   "source": [
    "Let us first load the dataset as Pandas data frame."
   ]
  },
  {
   "cell_type": "code",
   "execution_count": 4,
   "metadata": {},
   "outputs": [
    {
     "data": {
      "text/html": [
       "<div>\n",
       "<style scoped>\n",
       "    .dataframe tbody tr th:only-of-type {\n",
       "        vertical-align: middle;\n",
       "    }\n",
       "\n",
       "    .dataframe tbody tr th {\n",
       "        vertical-align: top;\n",
       "    }\n",
       "\n",
       "    .dataframe thead th {\n",
       "        text-align: right;\n",
       "    }\n",
       "</style>\n",
       "<table border=\"1\" class=\"dataframe\">\n",
       "  <thead>\n",
       "    <tr style=\"text-align: right;\">\n",
       "      <th></th>\n",
       "      <th>longitude</th>\n",
       "      <th>latitude</th>\n",
       "      <th>housing_median_age</th>\n",
       "      <th>total_rooms</th>\n",
       "      <th>total_bedrooms</th>\n",
       "      <th>population</th>\n",
       "      <th>households</th>\n",
       "      <th>median_income</th>\n",
       "      <th>median_house_value</th>\n",
       "      <th>ocean_proximity</th>\n",
       "    </tr>\n",
       "  </thead>\n",
       "  <tbody>\n",
       "    <tr>\n",
       "      <th>0</th>\n",
       "      <td>-122.23</td>\n",
       "      <td>37.88</td>\n",
       "      <td>41.0</td>\n",
       "      <td>880.0</td>\n",
       "      <td>129.0</td>\n",
       "      <td>322.0</td>\n",
       "      <td>126.0</td>\n",
       "      <td>8.3252</td>\n",
       "      <td>452600.0</td>\n",
       "      <td>NEAR BAY</td>\n",
       "    </tr>\n",
       "    <tr>\n",
       "      <th>1</th>\n",
       "      <td>-122.22</td>\n",
       "      <td>37.86</td>\n",
       "      <td>21.0</td>\n",
       "      <td>7099.0</td>\n",
       "      <td>1106.0</td>\n",
       "      <td>2401.0</td>\n",
       "      <td>1138.0</td>\n",
       "      <td>8.3014</td>\n",
       "      <td>358500.0</td>\n",
       "      <td>NEAR BAY</td>\n",
       "    </tr>\n",
       "    <tr>\n",
       "      <th>2</th>\n",
       "      <td>-122.24</td>\n",
       "      <td>37.85</td>\n",
       "      <td>52.0</td>\n",
       "      <td>1467.0</td>\n",
       "      <td>190.0</td>\n",
       "      <td>496.0</td>\n",
       "      <td>177.0</td>\n",
       "      <td>7.2574</td>\n",
       "      <td>352100.0</td>\n",
       "      <td>NEAR BAY</td>\n",
       "    </tr>\n",
       "    <tr>\n",
       "      <th>3</th>\n",
       "      <td>-122.25</td>\n",
       "      <td>37.85</td>\n",
       "      <td>52.0</td>\n",
       "      <td>1274.0</td>\n",
       "      <td>235.0</td>\n",
       "      <td>558.0</td>\n",
       "      <td>219.0</td>\n",
       "      <td>5.6431</td>\n",
       "      <td>341300.0</td>\n",
       "      <td>NEAR BAY</td>\n",
       "    </tr>\n",
       "    <tr>\n",
       "      <th>4</th>\n",
       "      <td>-122.25</td>\n",
       "      <td>37.85</td>\n",
       "      <td>52.0</td>\n",
       "      <td>1627.0</td>\n",
       "      <td>280.0</td>\n",
       "      <td>565.0</td>\n",
       "      <td>259.0</td>\n",
       "      <td>3.8462</td>\n",
       "      <td>342200.0</td>\n",
       "      <td>NEAR BAY</td>\n",
       "    </tr>\n",
       "  </tbody>\n",
       "</table>\n",
       "</div>"
      ],
      "text/plain": [
       "   longitude  latitude  housing_median_age  total_rooms  total_bedrooms  \\\n",
       "0    -122.23     37.88                41.0        880.0           129.0   \n",
       "1    -122.22     37.86                21.0       7099.0          1106.0   \n",
       "2    -122.24     37.85                52.0       1467.0           190.0   \n",
       "3    -122.25     37.85                52.0       1274.0           235.0   \n",
       "4    -122.25     37.85                52.0       1627.0           280.0   \n",
       "\n",
       "   population  households  median_income  median_house_value ocean_proximity  \n",
       "0       322.0       126.0         8.3252            452600.0        NEAR BAY  \n",
       "1      2401.0      1138.0         8.3014            358500.0        NEAR BAY  \n",
       "2       496.0       177.0         7.2574            352100.0        NEAR BAY  \n",
       "3       558.0       219.0         5.6431            341300.0        NEAR BAY  \n",
       "4       565.0       259.0         3.8462            342200.0        NEAR BAY  "
      ]
     },
     "execution_count": 4,
     "metadata": {},
     "output_type": "execute_result"
    }
   ],
   "source": [
    "df = pd.read_csv('../input/california-housing-prices/housing.csv')\n",
    "df.head()  # Print first 5 row of the data frame, 5 is default value but desired value can be passed as an argument"
   ]
  },
  {
   "cell_type": "code",
   "execution_count": 5,
   "metadata": {},
   "outputs": [
    {
     "data": {
      "text/plain": [
       "(Index(['longitude', 'latitude', 'housing_median_age', 'total_rooms',\n",
       "        'total_bedrooms', 'population', 'households', 'median_income',\n",
       "        'median_house_value', 'ocean_proximity'],\n",
       "       dtype='object'),\n",
       " 10)"
      ]
     },
     "execution_count": 5,
     "metadata": {},
     "output_type": "execute_result"
    }
   ],
   "source": [
    "df.columns, len(df.columns)"
   ]
  },
  {
   "cell_type": "markdown",
   "execution_count": null,
   "metadata": {},
   "source": [
    "For appropriate predictions, we should remove some of the entries like infinite, nan and non-numerical values."
   ]
  },
  {
   "cell_type": "code",
   "execution_count": 6,
   "metadata": {
    "_kg_hide-input": false,
    "_kg_hide-output": false
   },
   "outputs": [],
   "source": [
    "df.replace([np.inf, -np.inf], np.nan)  # Replace inf values with NaNs\n",
    "df.dropna(inplace=True)  # Drop NaN values from the dataframe"
   ]
  },
  {
   "cell_type": "code",
   "execution_count": 7,
   "metadata": {},
   "outputs": [
    {
     "data": {
      "text/html": [
       "<div>\n",
       "<style scoped>\n",
       "    .dataframe tbody tr th:only-of-type {\n",
       "        vertical-align: middle;\n",
       "    }\n",
       "\n",
       "    .dataframe tbody tr th {\n",
       "        vertical-align: top;\n",
       "    }\n",
       "\n",
       "    .dataframe thead th {\n",
       "        text-align: right;\n",
       "    }\n",
       "</style>\n",
       "<table border=\"1\" class=\"dataframe\">\n",
       "  <thead>\n",
       "    <tr style=\"text-align: right;\">\n",
       "      <th></th>\n",
       "      <th>longitude</th>\n",
       "      <th>latitude</th>\n",
       "      <th>housing_median_age</th>\n",
       "      <th>total_rooms</th>\n",
       "      <th>total_bedrooms</th>\n",
       "      <th>population</th>\n",
       "      <th>households</th>\n",
       "      <th>median_income</th>\n",
       "      <th>median_house_value</th>\n",
       "    </tr>\n",
       "  </thead>\n",
       "  <tbody>\n",
       "    <tr>\n",
       "      <th>count</th>\n",
       "      <td>20433.000000</td>\n",
       "      <td>20433.000000</td>\n",
       "      <td>20433.000000</td>\n",
       "      <td>20433.000000</td>\n",
       "      <td>20433.000000</td>\n",
       "      <td>20433.000000</td>\n",
       "      <td>20433.000000</td>\n",
       "      <td>20433.000000</td>\n",
       "      <td>20433.000000</td>\n",
       "    </tr>\n",
       "    <tr>\n",
       "      <th>mean</th>\n",
       "      <td>-119.570689</td>\n",
       "      <td>35.633221</td>\n",
       "      <td>28.633094</td>\n",
       "      <td>2636.504233</td>\n",
       "      <td>537.870553</td>\n",
       "      <td>1424.946949</td>\n",
       "      <td>499.433465</td>\n",
       "      <td>3.871162</td>\n",
       "      <td>206864.413155</td>\n",
       "    </tr>\n",
       "    <tr>\n",
       "      <th>std</th>\n",
       "      <td>2.003578</td>\n",
       "      <td>2.136348</td>\n",
       "      <td>12.591805</td>\n",
       "      <td>2185.269567</td>\n",
       "      <td>421.385070</td>\n",
       "      <td>1133.208490</td>\n",
       "      <td>382.299226</td>\n",
       "      <td>1.899291</td>\n",
       "      <td>115435.667099</td>\n",
       "    </tr>\n",
       "    <tr>\n",
       "      <th>min</th>\n",
       "      <td>-124.350000</td>\n",
       "      <td>32.540000</td>\n",
       "      <td>1.000000</td>\n",
       "      <td>2.000000</td>\n",
       "      <td>1.000000</td>\n",
       "      <td>3.000000</td>\n",
       "      <td>1.000000</td>\n",
       "      <td>0.499900</td>\n",
       "      <td>14999.000000</td>\n",
       "    </tr>\n",
       "    <tr>\n",
       "      <th>25%</th>\n",
       "      <td>-121.800000</td>\n",
       "      <td>33.930000</td>\n",
       "      <td>18.000000</td>\n",
       "      <td>1450.000000</td>\n",
       "      <td>296.000000</td>\n",
       "      <td>787.000000</td>\n",
       "      <td>280.000000</td>\n",
       "      <td>2.563700</td>\n",
       "      <td>119500.000000</td>\n",
       "    </tr>\n",
       "    <tr>\n",
       "      <th>50%</th>\n",
       "      <td>-118.490000</td>\n",
       "      <td>34.260000</td>\n",
       "      <td>29.000000</td>\n",
       "      <td>2127.000000</td>\n",
       "      <td>435.000000</td>\n",
       "      <td>1166.000000</td>\n",
       "      <td>409.000000</td>\n",
       "      <td>3.536500</td>\n",
       "      <td>179700.000000</td>\n",
       "    </tr>\n",
       "    <tr>\n",
       "      <th>75%</th>\n",
       "      <td>-118.010000</td>\n",
       "      <td>37.720000</td>\n",
       "      <td>37.000000</td>\n",
       "      <td>3143.000000</td>\n",
       "      <td>647.000000</td>\n",
       "      <td>1722.000000</td>\n",
       "      <td>604.000000</td>\n",
       "      <td>4.744000</td>\n",
       "      <td>264700.000000</td>\n",
       "    </tr>\n",
       "    <tr>\n",
       "      <th>max</th>\n",
       "      <td>-114.310000</td>\n",
       "      <td>41.950000</td>\n",
       "      <td>52.000000</td>\n",
       "      <td>39320.000000</td>\n",
       "      <td>6445.000000</td>\n",
       "      <td>35682.000000</td>\n",
       "      <td>6082.000000</td>\n",
       "      <td>15.000100</td>\n",
       "      <td>500001.000000</td>\n",
       "    </tr>\n",
       "  </tbody>\n",
       "</table>\n",
       "</div>"
      ],
      "text/plain": [
       "          longitude      latitude  housing_median_age   total_rooms  \\\n",
       "count  20433.000000  20433.000000        20433.000000  20433.000000   \n",
       "mean    -119.570689     35.633221           28.633094   2636.504233   \n",
       "std        2.003578      2.136348           12.591805   2185.269567   \n",
       "min     -124.350000     32.540000            1.000000      2.000000   \n",
       "25%     -121.800000     33.930000           18.000000   1450.000000   \n",
       "50%     -118.490000     34.260000           29.000000   2127.000000   \n",
       "75%     -118.010000     37.720000           37.000000   3143.000000   \n",
       "max     -114.310000     41.950000           52.000000  39320.000000   \n",
       "\n",
       "       total_bedrooms    population    households  median_income  \\\n",
       "count    20433.000000  20433.000000  20433.000000   20433.000000   \n",
       "mean       537.870553   1424.946949    499.433465       3.871162   \n",
       "std        421.385070   1133.208490    382.299226       1.899291   \n",
       "min          1.000000      3.000000      1.000000       0.499900   \n",
       "25%        296.000000    787.000000    280.000000       2.563700   \n",
       "50%        435.000000   1166.000000    409.000000       3.536500   \n",
       "75%        647.000000   1722.000000    604.000000       4.744000   \n",
       "max       6445.000000  35682.000000   6082.000000      15.000100   \n",
       "\n",
       "       median_house_value  \n",
       "count        20433.000000  \n",
       "mean        206864.413155  \n",
       "std         115435.667099  \n",
       "min          14999.000000  \n",
       "25%         119500.000000  \n",
       "50%         179700.000000  \n",
       "75%         264700.000000  \n",
       "max         500001.000000  "
      ]
     },
     "execution_count": 7,
     "metadata": {},
     "output_type": "execute_result"
    }
   ],
   "source": [
    "df.describe()"
   ]
  },
  {
   "cell_type": "code",
   "execution_count": 8,
   "metadata": {},
   "outputs": [
    {
     "name": "stdout",
     "output_type": "stream",
     "text": [
      "<class 'pandas.core.frame.DataFrame'>\n",
      "Int64Index: 20433 entries, 0 to 20639\n",
      "Data columns (total 10 columns):\n",
      " #   Column              Non-Null Count  Dtype  \n",
      "---  ------              --------------  -----  \n",
      " 0   longitude           20433 non-null  float64\n",
      " 1   latitude            20433 non-null  float64\n",
      " 2   housing_median_age  20433 non-null  float64\n",
      " 3   total_rooms         20433 non-null  float64\n",
      " 4   total_bedrooms      20433 non-null  float64\n",
      " 5   population          20433 non-null  float64\n",
      " 6   households          20433 non-null  float64\n",
      " 7   median_income       20433 non-null  float64\n",
      " 8   median_house_value  20433 non-null  float64\n",
      " 9   ocean_proximity     20433 non-null  object \n",
      "dtypes: float64(9), object(1)\n",
      "memory usage: 1.7+ MB\n"
     ]
    }
   ],
   "source": [
    "df.info()"
   ]
  },
  {
   "cell_type": "markdown",
   "execution_count": null,
   "metadata": {},
   "source": [
    "The training data can be represented using two matrices: `inputs` and `targets`, each with one row per observation, and one column per variable."
   ]
  },
  {
   "cell_type": "code",
   "execution_count": 9,
   "metadata": {},
   "outputs": [
    {
     "data": {
      "text/plain": [
       "((20433, 8), (20433, 1))"
      ]
     },
     "execution_count": 9,
     "metadata": {},
     "output_type": "execute_result"
    }
   ],
   "source": [
    "# Inputs: (longitude, latitude, housing_median_age, total_rooms, total_bedrooms, population, households, median_income)\n",
    "# Convert from Pandas dataframe to numpy arrays\n",
    "inputs = df.drop([TARGET_COLUMN, 'ocean_proximity'], axis=1).to_numpy()  # Drop TARGET_COLUMN since it is target, can not be used as input\n",
    "targets = df[[TARGET_COLUMN]].to_numpy()                                 # Drop 'ocean_proximity' since it is not numerical value\n",
    "inputs.shape, targets.shape"
   ]
  },
  {
   "cell_type": "code",
   "execution_count": 10,
   "metadata": {},
   "outputs": [
    {
     "data": {
      "text/plain": [
       "(8, 1)"
      ]
     },
     "execution_count": 10,
     "metadata": {},
     "output_type": "execute_result"
    }
   ],
   "source": [
    "input_size = inputs.shape[1]  # 8\n",
    "output_size = targets.shape[1]  # 1\n",
    "input_size, output_size"
   ]
  },
  {
   "cell_type": "markdown",
   "execution_count": null,
   "metadata": {},
   "source": [
    "We have separated the input and target variables, because we are going to operate on them separately. Also, we have created numpy arrays, because this is typically how you would work with training data: read some CSV files as numpy arrays, do some processing, and then convert them to PyTorch tensors. Since PyTorch only be able to perform operations using tensors, we should convert all input and target arrays to tensors and create a tensor dataset. "
   ]
  },
  {
   "cell_type": "code",
   "execution_count": 11,
   "metadata": {},
   "outputs": [],
   "source": [
    "inputs = torch.from_numpy(inputs)\n",
    "inputs = inputs.float()\n",
    "targets = torch.from_numpy(targets)\n",
    "targets = targets.float()"
   ]
  },
  {
   "cell_type": "markdown",
   "execution_count": null,
   "metadata": {},
   "source": [
    "We are normalizing the data for better results."
   ]
  },
  {
   "cell_type": "code",
   "execution_count": 12,
   "metadata": {},
   "outputs": [],
   "source": [
    "inputs_mean = torch.mean(inputs, axis=0)\n",
    "targets_mean = torch.mean(targets, axis=0)\n",
    "inputs = inputs / inputs_mean  # Noramalize\n",
    "#targets = targets / targets_mean  # Normalize"
   ]
  },
  {
   "cell_type": "markdown",
   "execution_count": null,
   "metadata": {},
   "source": [
    "## Linear Regression Model from Scratch\n",
    "\n",
    "The weights and biases (`w11, w12,... w23, b1 & b2`) can also be represented as matrices, initialized as random values. The first row of `w` and the first element of `b` are used to predict the target variable median house value."
   ]
  },
  {
   "cell_type": "code",
   "execution_count": 13,
   "metadata": {},
   "outputs": [
    {
     "data": {
      "text/plain": [
       "(tensor([[ 1.2403, -0.7097,  1.0364,  0.6800,  0.0442,  1.6242, -0.5536,  1.0774]],\n",
       "        requires_grad=True),\n",
       " torch.Size([1, 8]),\n",
       " tensor([1.7892], requires_grad=True),\n",
       " torch.Size([1]))"
      ]
     },
     "execution_count": 13,
     "metadata": {},
     "output_type": "execute_result"
    }
   ],
   "source": [
    "w = torch.randn(output_size, input_size, requires_grad=True)  # Weights\n",
    "b = torch.randn(output_size, requires_grad=True)  # Biases\n",
    "w, w.shape, b, b.shape"
   ]
  },
  {
   "cell_type": "markdown",
   "execution_count": null,
   "metadata": {},
   "source": [
    "`torch.randn` creates a tensor with the given shape, with elements picked randomly from a [normal distribution](https://en.wikipedia.org/wiki/Normal_distribution) with mean of 0 and standard deviation of 1.\n",
    "\n",
    "Our *model* is simply a function that performs a matrix multiplication of the `inputs` and the weights `w` (transposed) and adds the bias `b` (replicated for each observation).\n",
    "\n",
    "![matrix-mult](https://i.imgur.com/WGXLFvA.png)\n",
    "\n",
    "We can define the model as follows:"
   ]
  },
  {
   "cell_type": "code",
   "execution_count": 14,
   "metadata": {},
   "outputs": [],
   "source": [
    "def model(x):\n",
    "    return x @ w.t() + b"
   ]
  },
  {
   "cell_type": "markdown",
   "execution_count": null,
   "metadata": {},
   "source": [
    "`@` represents matrix multiplication in PyTorch, and the `t()` method returns the transpose of a tensor. The matrix obtained by passing the input data into the model is a set of predictions for the target variables. \n",
    "\n",
    "Let's compare the predictions of our model with the actual targets."
   ]
  },
  {
   "cell_type": "code",
   "execution_count": 15,
   "metadata": {},
   "outputs": [
    {
     "data": {
      "text/plain": [
       "(tensor([[6.5685],\n",
       "         [8.7706],\n",
       "         [6.9684],\n",
       "         ...,\n",
       "         [4.6388],\n",
       "         [4.4046],\n",
       "         [5.2690]], grad_fn=<AddBackward0>),\n",
       " tensor([[452600.],\n",
       "         [358500.],\n",
       "         [352100.],\n",
       "         ...,\n",
       "         [ 92300.],\n",
       "         [ 84700.],\n",
       "         [ 89400.]]))"
      ]
     },
     "execution_count": 15,
     "metadata": {},
     "output_type": "execute_result"
    }
   ],
   "source": [
    "# Generate predictions\n",
    "predictions = model(inputs)\n",
    "predictions, targets # Compare with targets"
   ]
  },
  {
   "cell_type": "markdown",
   "execution_count": null,
   "metadata": {},
   "source": [
    "You can see that there's a huge difference between the predictions of our model, and the actual values of the target variables. Obviously, this is because we've initialized our model with random weights and biases, and we can't expect it to *just work*."
   ]
  },
  {
   "cell_type": "markdown",
   "execution_count": null,
   "metadata": {},
   "source": [
    "## Loss Function\n",
    "\n",
    "Before we improve our model, we need a way to evaluate how well our model is performing. We can compare the model's predictions with the actual targets, using the following method:\n",
    "\n",
    "* Calculate the difference between the two matrices (`predictions` and `targets`).\n",
    "* Square all elements of the difference matrix to remove negative values.\n",
    "* Calculate the average of the elements in the resulting matrix.\n",
    "\n",
    "The result is a single number, known as the **mean squared error** (MSE)."
   ]
  },
  {
   "cell_type": "code",
   "execution_count": 16,
   "metadata": {},
   "outputs": [],
   "source": [
    "# MSE loss\n",
    "def mse(t1, t2):\n",
    "    diff = t1 - t2\n",
    "    return torch.sum(diff ** 2) / diff.numel()"
   ]
  },
  {
   "cell_type": "markdown",
   "execution_count": null,
   "metadata": {},
   "source": [
    "`torch.sum` returns the sum of all the elements in a tensor, and the `.numel` method returns the number of elements in a tensor. Let's compute the mean squared error for the current predictions of our model."
   ]
  },
  {
   "cell_type": "code",
   "execution_count": 17,
   "metadata": {},
   "outputs": [
    {
     "data": {
      "text/plain": [
       "tensor(5.6115e+10, grad_fn=<DivBackward0>)"
      ]
     },
     "execution_count": 17,
     "metadata": {},
     "output_type": "execute_result"
    }
   ],
   "source": [
    "# Compute loss\n",
    "loss = mse(predictions, targets)\n",
    "loss"
   ]
  },
  {
   "cell_type": "markdown",
   "execution_count": null,
   "metadata": {},
   "source": [
    "Here’s how we can interpret the result: *On average, each element in the prediction differs from the actual target by about 145 (square root of the loss 20834)*. And that’s pretty bad, considering the numbers we are trying to predict are themselves in the range 50–200. Also, the result is called the *loss*, because it indicates how bad the model is at predicting the target variables. Lower the loss, better the model."
   ]
  },
  {
   "cell_type": "markdown",
   "execution_count": null,
   "metadata": {},
   "source": [
    "## Compute Gradients\n",
    "\n",
    "With PyTorch, we can automatically compute the gradient or derivative of the loss w.r.t. to the weights and biases, because they have `requires_grad` set to `True`."
   ]
  },
  {
   "cell_type": "code",
   "execution_count": 18,
   "metadata": {},
   "outputs": [],
   "source": [
    "# Compute gradients\n",
    "loss.backward()"
   ]
  },
  {
   "cell_type": "markdown",
   "execution_count": null,
   "metadata": {},
   "source": [
    "The gradients are stored in the `.grad` property of the respective tensors. Note that the derivative of the loss w.r.t. the weights matrix is itself a matrix, with the same dimensions."
   ]
  },
  {
   "cell_type": "code",
   "execution_count": 19,
   "metadata": {},
   "outputs": [
    {
     "name": "stdout",
     "output_type": "stream",
     "text": [
      "tensor([[ 1.2403, -0.7097,  1.0364,  0.6800,  0.0442,  1.6242, -0.5536,  1.0774]],\n",
      "       requires_grad=True)\n",
      "tensor([[-413892.0312, -411714.4375, -424521.8750, -439220.0000, -422701.0000,\n",
      "         -409069.4375, -425182.3125, -491683.0938]])\n"
     ]
    }
   ],
   "source": [
    "# Gradients for weights\n",
    "print(w)\n",
    "print(w.grad)"
   ]
  },
  {
   "cell_type": "markdown",
   "execution_count": null,
   "metadata": {},
   "source": [
    "The loss is a [quadratic function](https://en.wikipedia.org/wiki/Quadratic_function) of our weights and biases, and our objective is to find the set of weights where the loss is the lowest. If we plot a graph of the loss w.r.t any individual weight or bias element, it will look like the figure shown below. A key insight from calculus is that the gradient indicates the rate of change of the loss, or the [slope](https://en.wikipedia.org/wiki/Slope) of the loss function w.r.t. the weights and biases.\n",
    "\n",
    "If a gradient element is **positive**:\n",
    "* **increasing** the element's value slightly will **increase** the loss.\n",
    "* **decreasing** the element's value slightly will **decrease** the loss\n",
    "\n",
    "![postive-gradient](https://i.imgur.com/hFYoVgU.png)\n",
    "\n",
    "If a gradient element is **negative**:\n",
    "* **increasing** the element's value slightly will **decrease** the loss.\n",
    "* **decreasing** the element's value slightly will **increase** the loss.\n",
    "\n",
    "![negative=gradient](https://i.imgur.com/w3Wii7C.png)\n",
    "\n",
    "The increase or decrease in loss by changing a weight element is proportional to the value of the gradient of the loss w.r.t. that element. This forms the basis for the optimization algorithm that we'll use to improve our model."
   ]
  },
  {
   "cell_type": "markdown",
   "execution_count": null,
   "metadata": {},
   "source": [
    "Before we proceed, we reset the gradients to zero by calling `.zero_()` method. We need to do this, because PyTorch accumulates, gradients i.e. the next time we call `.backward` on the loss, the new gradient values will get added to the existing gradient values, which may lead to unexpected results."
   ]
  },
  {
   "cell_type": "code",
   "execution_count": 20,
   "metadata": {},
   "outputs": [
    {
     "name": "stdout",
     "output_type": "stream",
     "text": [
      "tensor([[0., 0., 0., 0., 0., 0., 0., 0.]])\n",
      "tensor([0.])\n"
     ]
    }
   ],
   "source": [
    "w.grad.zero_()\n",
    "b.grad.zero_()\n",
    "print(w.grad)\n",
    "print(b.grad)"
   ]
  },
  {
   "cell_type": "markdown",
   "execution_count": null,
   "metadata": {},
   "source": [
    "## Adjust Weights and Biases Using Gradient Descent\n",
    "\n",
    "We'll reduce the loss and improve our model using the gradient descent optimization algorithm, which has the following steps:\n",
    "\n",
    "1. Generate predictions\n",
    "\n",
    "2. Calculate the loss\n",
    "\n",
    "3. Compute gradients w.r.t the weights and biases\n",
    "\n",
    "4. Adjust the weights by subtracting a small quantity proportional to the gradient\n",
    "\n",
    "5. Reset the gradients to zero\n",
    "\n",
    "Let's implement the above step by step."
   ]
  },
  {
   "cell_type": "code",
   "execution_count": 21,
   "metadata": {},
   "outputs": [
    {
     "data": {
      "text/plain": [
       "tensor([[6.5685],\n",
       "        [8.7706],\n",
       "        [6.9684],\n",
       "        ...,\n",
       "        [4.6388],\n",
       "        [4.4046],\n",
       "        [5.2690]], grad_fn=<AddBackward0>)"
      ]
     },
     "execution_count": 21,
     "metadata": {},
     "output_type": "execute_result"
    }
   ],
   "source": [
    "# Generate predictions\n",
    "predictions = model(inputs)\n",
    "predictions"
   ]
  },
  {
   "cell_type": "markdown",
   "execution_count": null,
   "metadata": {},
   "source": [
    "Note that the predictions are same as before, since we haven't made any changes to our model. The same holds true for the loss and gradients."
   ]
  },
  {
   "cell_type": "code",
   "execution_count": 22,
   "metadata": {},
   "outputs": [
    {
     "data": {
      "text/plain": [
       "tensor(5.6115e+10, grad_fn=<DivBackward0>)"
      ]
     },
     "execution_count": 22,
     "metadata": {},
     "output_type": "execute_result"
    }
   ],
   "source": [
    "# Calculate the loss\n",
    "loss = mse(predictions, targets)\n",
    "loss"
   ]
  },
  {
   "cell_type": "code",
   "execution_count": 23,
   "metadata": {},
   "outputs": [
    {
     "data": {
      "text/plain": [
       "(tensor([[-413892.0312, -411714.4375, -424521.8750, -439220.0000, -422701.0000,\n",
       "          -409069.4375, -425182.3125, -491683.0938]]),\n",
       " tensor([-413716.2812]))"
      ]
     },
     "execution_count": 23,
     "metadata": {},
     "output_type": "execute_result"
    }
   ],
   "source": [
    "# Compute gradients\n",
    "loss.backward()\n",
    "w.grad, b.grad"
   ]
  },
  {
   "cell_type": "markdown",
   "execution_count": null,
   "metadata": {},
   "source": [
    "Finally, we update the weights and biases using the gradients computed above."
   ]
  },
  {
   "cell_type": "code",
   "execution_count": 24,
   "metadata": {},
   "outputs": [],
   "source": [
    "# Adjust weights & reset gradients\n",
    "with torch.no_grad():\n",
    "    w -= w.grad * learning_rate\n",
    "    b -= b.grad * learning_rate\n",
    "    w.grad.zero_()\n",
    "    b.grad.zero_()"
   ]
  },
  {
   "cell_type": "markdown",
   "execution_count": null,
   "metadata": {},
   "source": [
    "A few things to note above:\n",
    "\n",
    "* We use `torch.no_grad` to indicate to PyTorch that we shouldn't track, calculate or modify gradients while updating the weights and biases. \n",
    "\n",
    "* We multiply the gradients with a really small number (`10^-5` in this case), to ensure that we don't modify the weights by a really large amount, since we only want to take a small step in the downhill direction of the gradient. This number is called the *learning rate* of the algorithm. \n",
    "\n",
    "* After we have updated the weights, we reset the gradients back to zero, to avoid affecting any future computations."
   ]
  },
  {
   "cell_type": "markdown",
   "execution_count": null,
   "metadata": {},
   "source": [
    "Let's take a look at the new weights and biases."
   ]
  },
  {
   "cell_type": "code",
   "execution_count": 25,
   "metadata": {},
   "outputs": [
    {
     "data": {
      "text/plain": [
       "(tensor([[42.6295, 40.4617, 43.4885, 44.6020, 42.3143, 42.5311, 41.9646, 50.2457]],\n",
       "        requires_grad=True),\n",
       " tensor([43.1608], requires_grad=True))"
      ]
     },
     "execution_count": 25,
     "metadata": {},
     "output_type": "execute_result"
    }
   ],
   "source": [
    "w, b"
   ]
  },
  {
   "cell_type": "markdown",
   "execution_count": null,
   "metadata": {},
   "source": [
    "With the new weights and biases, the model should have lower loss."
   ]
  },
  {
   "cell_type": "code",
   "execution_count": 26,
   "metadata": {},
   "outputs": [
    {
     "data": {
      "text/plain": [
       "tensor(5.5950e+10, grad_fn=<DivBackward0>)"
      ]
     },
     "execution_count": 26,
     "metadata": {},
     "output_type": "execute_result"
    }
   ],
   "source": [
    "# Calculate loss\n",
    "predictions = model(inputs)\n",
    "loss = mse(predictions, targets)\n",
    "loss"
   ]
  },
  {
   "cell_type": "markdown",
   "execution_count": null,
   "metadata": {},
   "source": [
    "We have already achieved a significant reduction in the loss, simply by adjusting the weights and biases slightly using gradient descent."
   ]
  },
  {
   "cell_type": "markdown",
   "execution_count": null,
   "metadata": {},
   "source": [
    "## Train for Multiple Epochs\n",
    "\n",
    "To reduce the loss further, we can repeat the process of adjusting the weights and biases using the gradients multiple times. Each iteration is called an epoch. Let's train the model for 100 epochs."
   ]
  },
  {
   "cell_type": "code",
   "execution_count": 27,
   "metadata": {},
   "outputs": [],
   "source": [
    "# Train for 1000 epochs\n",
    "for i in range(1000):\n",
    "    preds = model(inputs)\n",
    "    loss = mse(preds, targets)\n",
    "    loss.backward()\n",
    "    with torch.no_grad():\n",
    "        w -= w.grad * learning_rate\n",
    "        b -= b.grad * learning_rate\n",
    "        w.grad.zero_()\n",
    "        b.grad.zero_()"
   ]
  },
  {
   "cell_type": "markdown",
   "execution_count": null,
   "metadata": {},
   "source": [
    "Once again, let's verify that the loss is now lower:"
   ]
  },
  {
   "cell_type": "code",
   "execution_count": 28,
   "metadata": {},
   "outputs": [
    {
     "data": {
      "text/plain": [
       "tensor(1.4193e+10, grad_fn=<DivBackward0>)"
      ]
     },
     "execution_count": 28,
     "metadata": {},
     "output_type": "execute_result"
    }
   ],
   "source": [
    "# Calculate loss\n",
    "predictions = model(inputs)\n",
    "loss = mse(predictions, targets)\n",
    "loss"
   ]
  },
  {
   "cell_type": "markdown",
   "execution_count": null,
   "metadata": {},
   "source": [
    "As you can see, the loss is now much lower than what we started out with. Let's look at the model's predictions and compare them with the targets."
   ]
  },
  {
   "cell_type": "code",
   "execution_count": 29,
   "metadata": {},
   "outputs": [
    {
     "data": {
      "text/plain": [
       "tensor([[163203.4219],\n",
       "        [268699.8125],\n",
       "        [172851.0312],\n",
       "        ...,\n",
       "        [136624.5000],\n",
       "        [128510.8281],\n",
       "        [154556.9688]], grad_fn=<AddBackward0>)"
      ]
     },
     "execution_count": 29,
     "metadata": {},
     "output_type": "execute_result"
    }
   ],
   "source": [
    "# Predictions\n",
    "predictions"
   ]
  },
  {
   "cell_type": "code",
   "execution_count": 30,
   "metadata": {},
   "outputs": [
    {
     "data": {
      "text/plain": [
       "tensor([[452600.],\n",
       "        [358500.],\n",
       "        [352100.],\n",
       "        ...,\n",
       "        [ 92300.],\n",
       "        [ 84700.],\n",
       "        [ 89400.]])"
      ]
     },
     "execution_count": 30,
     "metadata": {},
     "output_type": "execute_result"
    }
   ],
   "source": [
    "# Targets\n",
    "targets"
   ]
  },
  {
   "cell_type": "markdown",
   "execution_count": null,
   "metadata": {},
   "source": [
    "The prediction are now quite close to the target variables, and we can get even better results by training for a few more epochs. "
   ]
  },
  {
   "cell_type": "markdown",
   "execution_count": null,
   "metadata": {},
   "source": [
    "## Linear Regression Using PyTorch Built-ins\n",
    "\n",
    "The model and training process above were implemented using basic matrix operations. But since this such a common pattern , PyTorch has several built-in functions and classes to make it easy to create and train models."
   ]
  },
  {
   "cell_type": "markdown",
   "execution_count": null,
   "metadata": {},
   "source": [
    "## Splitting Data into Batches of Data\n",
    "\n",
    "We already created a `TensorDataset`, which allows access to rows from `inputs` and `targets` as tuples, and provides standard APIs for working with many different types of datasets in PyTorch."
   ]
  },
  {
   "cell_type": "markdown",
   "execution_count": null,
   "metadata": {},
   "source": [
    "The `TensorDataset` allows us to access a small section of the training data using the array indexing notation (`[0:3]` in the above code). It returns a tuple (or pair), in which the first element contains the input variables for the selected rows, and the second contains the targets."
   ]
  },
  {
   "cell_type": "code",
   "execution_count": 31,
   "metadata": {},
   "outputs": [
    {
     "data": {
      "text/plain": [
       "(tensor([[1.0222, 1.0631, 1.4319, 0.3338, 0.2398, 0.2260, 0.2523, 2.1506],\n",
       "         [1.0222, 1.0625, 0.7334, 2.6926, 2.0563, 1.6850, 2.2786, 2.1444]]),\n",
       " tensor([[452600.],\n",
       "         [358500.]]))"
      ]
     },
     "execution_count": 31,
     "metadata": {},
     "output_type": "execute_result"
    }
   ],
   "source": [
    "# Define dataset\n",
    "dataset = TensorDataset(inputs, targets)\n",
    "dataset[0:2]"
   ]
  },
  {
   "cell_type": "markdown",
   "execution_count": null,
   "metadata": {},
   "source": [
    "We'll also create a `DataLoader`, which can split the data into batches of a predefined size while training. It also provides other utilities like shuffling and random sampling of the data."
   ]
  },
  {
   "cell_type": "code",
   "execution_count": 32,
   "metadata": {},
   "outputs": [],
   "source": [
    "# Define data loader\n",
    "train_loader = DataLoader(dataset, batch_size, shuffle=True)"
   ]
  },
  {
   "cell_type": "markdown",
   "execution_count": null,
   "metadata": {},
   "source": [
    "The data loader is typically used in a `for-in` loop. Let's look at an example."
   ]
  },
  {
   "cell_type": "code",
   "execution_count": 33,
   "metadata": {},
   "outputs": [
    {
     "name": "stdout",
     "output_type": "stream",
     "text": [
      "tensor([[0.9874, 0.9514, 1.3621, 0.9490, 1.0151, 1.2976, 1.0372, 1.0035],\n",
      "        [1.0252, 1.0706, 0.3143, 0.4938, 0.3291, 0.4786, 0.3804, 1.9374],\n",
      "        [1.0159, 1.0546, 0.4889, 0.6046, 0.5429, 0.6225, 0.5747, 1.2044],\n",
      "        [1.0174, 1.0291, 0.9779, 0.7305, 1.0337, 1.2050, 1.0712, 0.5008],\n",
      "        [0.9898, 0.9556, 1.8161, 0.7476, 0.7697, 0.7474, 0.8189, 0.9412],\n",
      "        [0.9796, 0.9303, 0.5588, 1.4819, 1.2475, 1.2344, 1.3275, 0.8208],\n",
      "        [0.9891, 0.9505, 0.7334, 2.3167, 2.1009, 2.2766, 2.2285, 1.1048],\n",
      "        [0.9839, 0.9438, 0.3492, 1.8259, 1.1955, 1.2688, 1.1773, 2.2727],\n",
      "        [1.0213, 1.0580, 1.4319, 1.3256, 1.4632, 1.2976, 1.5017, 0.6920],\n",
      "        [0.9861, 0.9477, 0.9080, 2.1073, 2.5991, 3.1896, 2.6690, 0.7983],\n",
      "        [1.0202, 1.0535, 0.6286, 1.3594, 1.3293, 1.1741, 1.3235, 1.0189],\n",
      "        [1.0238, 1.0591, 1.8161, 0.5841, 0.6879, 0.7972, 0.7268, 1.1140],\n",
      "        [0.9853, 0.9544, 0.4191, 3.4883, 3.0528, 3.0401, 3.1115, 1.2810],\n",
      "        [1.0225, 1.0743, 0.8382, 1.0738, 0.9333, 1.0260, 1.0071, 1.1624],\n",
      "        [1.0140, 1.1312, 1.2573, 0.6057, 0.5596, 0.4435, 0.5246, 0.9290],\n",
      "        [1.0225, 1.0631, 1.8161, 0.9877, 1.5561, 1.2618, 1.5397, 0.4456],\n",
      "        [0.9904, 0.9609, 1.2224, 0.5716, 0.5224, 0.7193, 0.5726, 1.1840],\n",
      "        [1.0130, 1.1032, 0.5937, 1.3055, 1.3107, 1.1881, 1.2394, 0.7259],\n",
      "        [1.0188, 1.0487, 1.4319, 0.5909, 0.5224, 0.6807, 0.6087, 1.1409],\n",
      "        [0.9867, 0.9466, 0.7683, 1.6052, 1.1601, 1.6899, 1.3215, 1.7188],\n",
      "        [0.9905, 0.9592, 1.1525, 1.0305, 1.2308, 1.0850, 1.1954, 1.0100],\n",
      "        [0.9968, 0.9587, 1.1874, 0.9899, 0.8664, 1.0828, 0.8670, 1.0261],\n",
      "        [1.0075, 0.9738, 0.8382, 0.9054, 0.7158, 0.7376, 0.7649, 1.1520],\n",
      "        [1.0151, 1.0802, 0.3842, 3.2380, 3.0546, 2.9643, 3.2997, 0.7658],\n",
      "        [1.0196, 1.0457, 0.8731, 1.6150, 1.3368, 1.6071, 1.4877, 1.3293],\n",
      "        [0.9862, 0.9500, 1.3271, 0.7897, 0.9891, 1.1172, 1.0212, 0.6123],\n",
      "        [0.9818, 0.9522, 0.9080, 1.1432, 0.9184, 1.2857, 0.9711, 1.2485],\n",
      "        [0.9851, 0.9466, 0.1048, 3.1254, 2.6214, 2.3285, 2.5429, 1.8618],\n",
      "        [1.0175, 1.0414, 0.6636, 1.4356, 1.1360, 1.5425, 1.2214, 1.3307],\n",
      "        [1.0057, 1.0395, 0.7334, 0.6539, 0.5894, 0.7060, 0.5807, 0.8490],\n",
      "        [0.9812, 0.9587, 0.3143, 0.2697, 0.2584, 0.2218, 0.3043, 1.0373],\n",
      "        [0.9888, 0.9511, 1.2573, 0.9854, 0.9556, 1.3137, 1.0292, 0.8180],\n",
      "        [1.0207, 1.0378, 1.7812, 0.4081, 0.3830, 0.3474, 0.4025, 0.7565],\n",
      "        [1.0236, 1.0605, 1.8161, 0.0357, 0.0446, 0.0793, 0.0541, 1.2028],\n",
      "        [0.9885, 0.9511, 1.3271, 1.5240, 1.8332, 2.5980, 1.8561, 0.7567],\n",
      "        [1.0221, 1.0602, 1.6415, 0.3342, 0.4611, 0.5284, 0.4825, 0.6781],\n",
      "        [1.0215, 1.0504, 0.6286, 0.7813, 1.0467, 0.8028, 1.2014, 1.0510],\n",
      "        [1.0226, 1.0535, 0.5239, 0.8064, 0.5763, 0.6351, 0.6127, 2.3012],\n",
      "        [0.9818, 0.9519, 0.8731, 1.0946, 1.0839, 1.6330, 1.1553, 0.6161],\n",
      "        [1.0240, 1.0597, 1.8161, 0.9516, 0.9222, 0.6000, 0.9571, 1.3105],\n",
      "        [1.0266, 1.0948, 0.5937, 1.5786, 1.7978, 0.6239, 0.8289, 0.8831],\n",
      "        [1.0224, 1.0706, 0.8382, 1.1064, 1.0095, 1.3179, 1.0632, 0.9561],\n",
      "        [1.0160, 1.0600, 0.6636, 0.8966, 0.6935, 0.8871, 0.7809, 1.2961],\n",
      "        [0.9849, 0.9457, 0.5239, 0.5280, 0.4964, 0.4779, 0.5266, 1.4013],\n",
      "        [0.9956, 1.0092, 0.6286, 0.4502, 0.5726, 0.9425, 0.5546, 0.4844],\n",
      "        [0.9898, 0.9558, 1.8161, 1.0760, 1.1192, 0.8169, 1.1033, 0.8372],\n",
      "        [1.0092, 0.9963, 0.5239, 1.0438, 1.0151, 0.9979, 1.0912, 0.8476],\n",
      "        [1.0017, 1.0339, 0.5239, 0.7806, 0.7660, 0.6253, 0.7569, 0.8413],\n",
      "        [1.0229, 1.1475, 0.6286, 0.2860, 0.2993, 0.1733, 0.2142, 0.5834],\n",
      "        [1.0142, 1.0650, 1.5018, 0.2113, 0.3068, 0.4021, 0.2883, 0.4446],\n",
      "        [0.9797, 0.9194, 1.1176, 0.9812, 1.2661, 0.8744, 1.3015, 0.5613],\n",
      "        [0.9976, 0.9617, 1.5367, 0.2678, 0.3272, 0.2800, 0.2983, 0.7773],\n",
      "        [1.0190, 1.0454, 0.5937, 0.8963, 0.8794, 0.9607, 0.8850, 1.2491],\n",
      "        [1.0230, 1.0645, 1.3970, 1.1591, 0.9091, 0.7741, 0.9631, 1.3192],\n",
      "        [0.9919, 0.9561, 0.5588, 0.1210, 0.1097, 0.1046, 0.1281, 1.1947],\n",
      "        [0.9793, 0.9174, 1.1874, 0.5572, 0.4964, 0.7235, 0.5346, 0.8933],\n",
      "        [0.9890, 0.9612, 1.1874, 1.1948, 0.9631, 0.9769, 0.9611, 1.2749],\n",
      "        [0.9874, 0.9508, 0.5588, 1.8714, 1.5338, 1.8724, 1.6218, 1.4848],\n",
      "        [1.0196, 1.0515, 0.9080, 0.7646, 0.5987, 0.7755, 0.7148, 1.5726],\n",
      "        [0.9905, 0.9609, 1.2573, 0.5644, 0.5819, 0.8569, 0.5927, 1.0387],\n",
      "        [1.0076, 1.0479, 0.2794, 2.3311, 1.8908, 1.9797, 1.9762, 1.2064],\n",
      "        [0.9879, 0.9558, 1.2224, 0.6558, 0.8143, 0.9179, 0.8249, 0.6541],\n",
      "        [1.0217, 1.0602, 1.4668, 0.5780, 0.4834, 0.4569, 0.5346, 0.9526],\n",
      "        [0.9859, 0.9575, 1.2224, 0.5488, 0.5057, 0.8590, 0.5366, 1.0316]])\n",
      "tensor([[164100.],\n",
      "        [423200.],\n",
      "        [294000.],\n",
      "        [123200.],\n",
      "        [195800.],\n",
      "        [172600.],\n",
      "        [181400.],\n",
      "        [436600.],\n",
      "        [144900.],\n",
      "        [190400.],\n",
      "        [240100.],\n",
      "        [243000.],\n",
      "        [282100.],\n",
      "        [158300.],\n",
      "        [ 93600.],\n",
      "        [287500.],\n",
      "        [177200.],\n",
      "        [128900.],\n",
      "        [215200.],\n",
      "        [284900.],\n",
      "        [267500.],\n",
      "        [189000.],\n",
      "        [152700.],\n",
      "        [108900.],\n",
      "        [267200.],\n",
      "        [166100.],\n",
      "        [127900.],\n",
      "        [291300.],\n",
      "        [436700.],\n",
      "        [ 91700.],\n",
      "        [131000.],\n",
      "        [117700.],\n",
      "        [258300.],\n",
      "        [350000.],\n",
      "        [113600.],\n",
      "        [111300.],\n",
      "        [378600.],\n",
      "        [500001.],\n",
      "        [113700.],\n",
      "        [405400.],\n",
      "        [200500.],\n",
      "        [123600.],\n",
      "        [274200.],\n",
      "        [187200.],\n",
      "        [ 51700.],\n",
      "        [250000.],\n",
      "        [175000.],\n",
      "        [124400.],\n",
      "        [ 78800.],\n",
      "        [ 59000.],\n",
      "        [145500.],\n",
      "        [166700.],\n",
      "        [141600.],\n",
      "        [247300.],\n",
      "        [433300.],\n",
      "        [112700.],\n",
      "        [336900.],\n",
      "        [284200.],\n",
      "        [246900.],\n",
      "        [171400.],\n",
      "        [127600.],\n",
      "        [197200.],\n",
      "        [157300.],\n",
      "        [141900.]])\n"
     ]
    }
   ],
   "source": [
    "for xb, yb in train_loader:\n",
    "    print(xb)\n",
    "    print(yb)\n",
    "    break"
   ]
  },
  {
   "cell_type": "markdown",
   "execution_count": null,
   "metadata": {},
   "source": [
    "In each iteration, the data loader returns one batch of data, with the given batch size. If `shuffle` is set to `True`, it shuffles the training data before creating batches. Shuffling helps randomize the input to the optimization algorithm, which can lead to faster reduction in the loss."
   ]
  },
  {
   "cell_type": "markdown",
   "execution_count": null,
   "metadata": {},
   "source": [
    "## nn.Linear\n",
    "\n",
    "Instead of initializing the weights & biases manually, we can define the model using the `nn.Linear` class from PyTorch, which does it automatically."
   ]
  },
  {
   "cell_type": "code",
   "execution_count": 34,
   "metadata": {},
   "outputs": [
    {
     "name": "stdout",
     "output_type": "stream",
     "text": [
      "Parameter containing:\n",
      "tensor([[ 0.3171,  0.1518,  0.1701, -0.1674,  0.2445, -0.0471,  0.2284, -0.0842]],\n",
      "       requires_grad=True)\n",
      "Parameter containing:\n",
      "tensor([0.1285], requires_grad=True)\n"
     ]
    }
   ],
   "source": [
    "# Define model\n",
    "model = nn.Linear(input_size, output_size)\n",
    "print(model.weight)\n",
    "print(model.bias)"
   ]
  },
  {
   "cell_type": "markdown",
   "execution_count": null,
   "metadata": {},
   "source": [
    "PyTorch models also have a helpful `.parameters` method, which returns a list containing all the weights and bias matrices present in the model. For our linear regression model, we have one weight matrix and one bias matrix."
   ]
  },
  {
   "cell_type": "code",
   "execution_count": 35,
   "metadata": {},
   "outputs": [
    {
     "data": {
      "text/plain": [
       "[Parameter containing:\n",
       " tensor([[ 0.3171,  0.1518,  0.1701, -0.1674,  0.2445, -0.0471,  0.2284, -0.0842]],\n",
       "        requires_grad=True),\n",
       " Parameter containing:\n",
       " tensor([0.1285], requires_grad=True)]"
      ]
     },
     "execution_count": 35,
     "metadata": {},
     "output_type": "execute_result"
    }
   ],
   "source": [
    "# Parameters\n",
    "list(model.parameters())"
   ]
  },
  {
   "cell_type": "markdown",
   "execution_count": null,
   "metadata": {},
   "source": [
    "We can use the model to generate predictions in the exact same way as before:"
   ]
  },
  {
   "cell_type": "code",
   "execution_count": 36,
   "metadata": {},
   "outputs": [
    {
     "data": {
      "text/plain": [
       "tensor([[0.7263],\n",
       "        [1.0513],\n",
       "        [0.8228],\n",
       "        ...,\n",
       "        [0.9241],\n",
       "        [0.8875],\n",
       "        [0.9606]], grad_fn=<AddmmBackward>)"
      ]
     },
     "execution_count": 36,
     "metadata": {},
     "output_type": "execute_result"
    }
   ],
   "source": [
    "# Generate predictions\n",
    "predictions = model(inputs)\n",
    "predictions"
   ]
  },
  {
   "cell_type": "markdown",
   "execution_count": null,
   "metadata": {},
   "source": [
    "## Loss Function\n",
    "\n",
    "Instead of defining a loss function manually, we can use the built-in loss function `mse_loss` from `torch.nn.functional`. The `torch.nn.functional` package contains many useful loss functions and several other utilities. "
   ]
  },
  {
   "cell_type": "code",
   "execution_count": 37,
   "metadata": {},
   "outputs": [],
   "source": [
    "# Define loss function\n",
    "criterion = F.mse_loss"
   ]
  },
  {
   "cell_type": "markdown",
   "execution_count": null,
   "metadata": {},
   "source": [
    "Let's compute the loss for the current predictions of our model."
   ]
  },
  {
   "cell_type": "code",
   "execution_count": 38,
   "metadata": {},
   "outputs": [
    {
     "data": {
      "text/plain": [
       "tensor(5.6117e+10, grad_fn=<MseLossBackward>)"
      ]
     },
     "execution_count": 38,
     "metadata": {},
     "output_type": "execute_result"
    }
   ],
   "source": [
    "loss = criterion(model(inputs), targets)\n",
    "loss"
   ]
  },
  {
   "cell_type": "markdown",
   "execution_count": null,
   "metadata": {},
   "source": [
    "## Optimizer\n",
    "\n",
    "Instead of manually manipulating the model's weights & biases using gradients, we can use the optimizer `optim.SGD`. SGD stands for `stochastic gradient descent`. It is called `stochastic` because samples are selected in batches (often with random shuffling) instead of as a single group."
   ]
  },
  {
   "cell_type": "code",
   "execution_count": 39,
   "metadata": {},
   "outputs": [],
   "source": [
    "# Define optimizer\n",
    "optimizer = torch.optim.SGD(model.parameters(), lr=learning_rate)"
   ]
  },
  {
   "cell_type": "markdown",
   "execution_count": null,
   "metadata": {},
   "source": [
    "Note that `model.parameters()` is passed as an argument to `optim.SGD`, so that the optimizer knows which matrices should be modified during the update step. Also, we can specify a learning rate which controls the amount by which the parameters are modified."
   ]
  },
  {
   "cell_type": "markdown",
   "execution_count": null,
   "metadata": {},
   "source": [
    "## Train the Model\n",
    "\n",
    "We are now ready to train the model. We'll follow the exact same process to implement gradient descent:\n",
    "\n",
    "1. Generate predictions\n",
    "\n",
    "2. Calculate the loss\n",
    "\n",
    "3. Compute gradients w.r.t the weights and biases\n",
    "\n",
    "4. Adjust the weights by subtracting a small quantity proportional to the gradient\n",
    "\n",
    "5. Reset the gradients to zero\n",
    "\n",
    "The only change is that we'll work batches of data, instead of processing the entire training data in every iteration. Let's define a utility function `fit` which trains the model for a given number of epochs."
   ]
  },
  {
   "cell_type": "code",
   "execution_count": 40,
   "metadata": {},
   "outputs": [],
   "source": [
    "# Utility function to train the model\n",
    "def fit(num_epochs, model, criterion, optimizer, train_loader):\n",
    "    # Repeat for given number of epochs\n",
    "    for epoch in range(num_epochs):\n",
    "        # Train with batches of data\n",
    "        for xb,yb in train_loader:\n",
    "            # 1. Generate predictions\n",
    "            pred = model(xb)\n",
    "            # 2. Calculate loss\n",
    "            loss = criterion(pred, yb)\n",
    "            # 3. Compute gradients\n",
    "            loss.backward()\n",
    "            # 4. Update parameters using gradients\n",
    "            optimizer.step()\n",
    "            # 5. Reset the gradients to zero\n",
    "            optimizer.zero_grad()\n",
    "        # Print the progress\n",
    "        if (epoch+1) % 10 == 0:\n",
    "            print('Epoch [{}/{}], Loss: {:.4f}'.format(epoch+1, num_epochs, loss.item()))"
   ]
  },
  {
   "cell_type": "markdown",
   "execution_count": null,
   "metadata": {},
   "source": [
    "Some things to note above:\n",
    "\n",
    "* We use the data loader defined earlier to get batches of data for every iteration.\n",
    "\n",
    "* Instead of updating parameters (weights and biases) manually, we use `opt.step` to perform the update, and `opt.zero_grad` to reset the gradients to zero.\n",
    "\n",
    "* We've also added a log statement which prints the loss from the last batch of data for every 10th epoch, to track the progress of training. `loss.item` returns the actual value stored in the loss tensor.\n",
    "\n",
    "Let's train the model for 100 epochs."
   ]
  },
  {
   "cell_type": "code",
   "execution_count": 41,
   "metadata": {},
   "outputs": [
    {
     "name": "stdout",
     "output_type": "stream",
     "text": [
      "Epoch [10/100], Loss: 7307639296.0000\n",
      "Epoch [20/100], Loss: 4309603840.0000\n",
      "Epoch [30/100], Loss: 8685913088.0000\n",
      "Epoch [40/100], Loss: 9940669440.0000\n",
      "Epoch [50/100], Loss: 7668150272.0000\n",
      "Epoch [60/100], Loss: 11361121280.0000\n",
      "Epoch [70/100], Loss: 9915807744.0000\n",
      "Epoch [80/100], Loss: 4636130816.0000\n",
      "Epoch [90/100], Loss: 16285785088.0000\n",
      "Epoch [100/100], Loss: 9558606848.0000\n"
     ]
    }
   ],
   "source": [
    "fit(100, model, criterion, optimizer, train_loader)"
   ]
  },
  {
   "cell_type": "markdown",
   "execution_count": null,
   "metadata": {},
   "source": [
    "Let's generate predictions using our model and verify that they're close to our targets."
   ]
  },
  {
   "cell_type": "code",
   "execution_count": 42,
   "metadata": {},
   "outputs": [
    {
     "data": {
      "text/plain": [
       "tensor([[367141.8438],\n",
       "        [371599.1562],\n",
       "        [347588.4688],\n",
       "        ...,\n",
       "        [128728.6562],\n",
       "        [135276.8438],\n",
       "        [149707.6875]], grad_fn=<AddmmBackward>)"
      ]
     },
     "execution_count": 42,
     "metadata": {},
     "output_type": "execute_result"
    }
   ],
   "source": [
    "# Generate predictions\n",
    "predictions = model(inputs)\n",
    "predictions"
   ]
  },
  {
   "cell_type": "code",
   "execution_count": 43,
   "metadata": {},
   "outputs": [
    {
     "data": {
      "text/plain": [
       "tensor([[452600.],\n",
       "        [358500.],\n",
       "        [352100.],\n",
       "        ...,\n",
       "        [ 92300.],\n",
       "        [ 84700.],\n",
       "        [ 89400.]])"
      ]
     },
     "execution_count": 43,
     "metadata": {},
     "output_type": "execute_result"
    }
   ],
   "source": [
    "# Compare with targets\n",
    "targets"
   ]
  },
  {
   "cell_type": "markdown",
   "execution_count": null,
   "metadata": {},
   "source": [
    "Indeed, the predictions are quite close to our targets, and now we have a fairly good model to predict crop yields for apples and oranges by looking at the average temperature, rainfall and humidity in a region."
   ]
  },
  {
   "cell_type": "markdown",
   "execution_count": null,
   "metadata": {},
   "source": [
    "## Further Reading\n",
    "\n",
    "We've covered a lot of ground this this tutorial, including *linear regression* and the *gradient descent* optimization algorithm. Here are a few resources if you'd like to dig deeper into these topics:\n",
    "\n",
    "* For a more detailed explanation of derivates and gradient descent, see [these notes from a Udacity course](https://storage.googleapis.com/supplemental_media/udacityu/315142919/Gradient%20Descent.pdf). \n",
    "\n",
    "* For an animated visualization of how linear regression works, [see this post](https://hackernoon.com/visualizing-linear-regression-with-pytorch-9261f49edb09).\n",
    "\n",
    "* For a more mathematical treatment of matrix calculus, linear regression and gradient descent, you should check out [Andrew Ng's excellent course notes](https://github.com/Cleo-Stanford-CS/CS229_Notes/blob/master/lectures/cs229-notes1.pdf) from CS229 at Stanford University.\n",
    "\n",
    "* To practice and test your skills, you can participate in the [Boston Housing Price Prediction](https://www.kaggle.com/c/boston-housing) competition on Kaggle, a website that hosts data science competitions."
   ]
  },
  {
   "cell_type": "markdown",
   "execution_count": null,
   "metadata": {},
   "source": [
    "## Reference Links\n",
    "* Official documentation for torch.Tensor: https://pytorch.org/docs/stable/tensors.html\n",
    "* PyTorch Zero to GANs Course: http://zerotogans.com/\n",
    "* https://jovian.ml/aakashns/02-linear-regression\n",
    "* https://hackernoon.com/visualizing-linear-regression-with-pytorch-9261f49edb09\n",
    "\n",
    "Special thanks to Jovian.ml team and freeCodeCamp.org!"
   ]
  },
  {
   "cell_type": "markdown",
   "execution_count": null,
   "metadata": {},
   "source": [
    "With this, we complete our discussion of linear regression in PyTorch, and we’re ready to move on to the next topic: *Logistic regression*."
   ]
  }
 ],
 "metadata": {
  "kernelspec": {
   "display_name": "Python 3",
   "language": "python",
   "name": "python3"
  },
  "language_info": {
   "codemirror_mode": {
    "name": "ipython",
    "version": 3
   },
   "file_extension": ".py",
   "mimetype": "text/x-python",
   "name": "python",
   "nbconvert_exporter": "python",
   "pygments_lexer": "ipython3",
   "version": "3.7.6"
  }
 },
 "nbformat": 4,
 "nbformat_minor": 4
}
